{
  "nbformat": 4,
  "nbformat_minor": 0,
  "metadata": {
    "colab": {
      "provenance": [],
      "authorship_tag": "ABX9TyNjD6kya0iD4BM8IfOCCmYY",
      "include_colab_link": true
    },
    "kernelspec": {
      "name": "python3",
      "display_name": "Python 3"
    },
    "language_info": {
      "name": "python"
    }
  },
  "cells": [
    {
      "cell_type": "markdown",
      "metadata": {
        "id": "view-in-github",
        "colab_type": "text"
      },
      "source": [
        "<a href=\"https://colab.research.google.com/github/Efa19/Dasar_dasar_pemrograman_pertemuan_1/blob/main/TugasDDPNo123.ipynb\" target=\"_parent\"><img src=\"https://colab.research.google.com/assets/colab-badge.svg\" alt=\"Open In Colab\"/></a>"
      ]
    },
    {
      "cell_type": "code",
      "execution_count": null,
      "metadata": {
        "colab": {
          "base_uri": "https://localhost:8080/"
        },
        "id": "NEXl3Z2fsio7",
        "outputId": "80e7a628-d7af-4eb6-dd58-3d02cca74436"
      },
      "outputs": [
        {
          "output_type": "stream",
          "name": "stdout",
          "text": [
            "Masukkan jumlah baris: 4\n",
            "*\n",
            "**\n",
            "***\n",
            "****\n"
          ]
        }
      ],
      "source": [
        "\n",
        "# Meminta input jumlah baris\n",
        "jumlah_baris = int(input(\"Masukkan jumlah baris: \"))\n",
        "\n",
        "# Membuat pola dengan for loop\n",
        "for i in range(1, jumlah_baris + 1):\n",
        "    for j in range(i):\n",
        "        print(\"*\", end=\"\")\n",
        "    print()"
      ]
    },
    {
      "cell_type": "code",
      "source": [
        "total = 0\n",
        "for i in range(1, 20, 2):\n",
        "    total += i\n",
        "\n",
        "print(\"Total dari deret 1+3+5+7+9+11+13+15+17+19 adalah:\", total)"
      ],
      "metadata": {
        "colab": {
          "base_uri": "https://localhost:8080/"
        },
        "id": "IWbItEtJv7Em",
        "outputId": "92a0561a-ae65-4bf5-fbcc-95eb580af618"
      },
      "execution_count": 2,
      "outputs": [
        {
          "output_type": "stream",
          "name": "stdout",
          "text": [
            "Total dari deret 1+3+5+7+9+11+13+15+17+19 adalah: 100\n"
          ]
        }
      ]
    },
    {
      "cell_type": "code",
      "source": [
        "numbers = [\n",
        "  951, 402, 984, 651, 360, 69, 408, 319, 601, 485, 980, 507, 725,\n",
        "  547, 544, 615, 83, 165, 141, 501, 263, 617, 865, 575, 219, 390,\n",
        "  984, 592, 236, 105, 942, 941, 386, 462, 47, 418, 907, 344, 236,\n",
        "  375, 823, 566, 597, 978, 328, 615, 953, 345, 399, 162, 758, 219,\n",
        "  918, 237, 412, 566, 826, 248, 866, 950, 626, 949, 687, 217, 815,\n",
        "  67, 104, 58, 512, 24, 892, 894, 767, 553, 81, 379, 843, 831, 445,\n",
        "  742, 717, 958, 609, 842, 451, 688, 753, 854, 685, 93, 857, 440,\n",
        "  380, 126, 721, 328, 753, 470, 743, 527\n",
        "]\n",
        "\n",
        "i = 0\n",
        "while i < len(numbers):\n",
        "    if numbers[i] > 553:\n",
        "        break  # Hentikan perulangan jika bilangan melebihi 553\n",
        "    if numbers[i] % 2 != 0:\n",
        "        print(numbers[i])\n",
        "    i += 1"
      ],
      "metadata": {
        "id": "QCKSVSDtw4Ya"
      },
      "execution_count": 13,
      "outputs": []
    }
  ]
}